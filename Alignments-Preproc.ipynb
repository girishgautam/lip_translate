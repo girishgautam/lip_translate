{
 "cells": [
  {
   "cell_type": "code",
   "execution_count": 1,
   "id": "31bf71bf",
   "metadata": {},
   "outputs": [
    {
     "name": "stdout",
     "output_type": "stream",
     "text": [
      "Requirement already satisfied: opencv-python in /home/mathildaweston/.pyenv/versions/3.10.6/envs/lewagon/lib/python3.10/site-packages (4.9.0.80)\n",
      "Requirement already satisfied: matplotlib in /home/mathildaweston/.pyenv/versions/3.10.6/envs/lewagon/lib/python3.10/site-packages (3.5.3)\n",
      "Requirement already satisfied: imageio in /home/mathildaweston/.pyenv/versions/3.10.6/envs/lewagon/lib/python3.10/site-packages (2.22.2)\n",
      "Requirement already satisfied: tensorflow in /home/mathildaweston/.pyenv/versions/3.10.6/envs/lewagon/lib/python3.10/site-packages (2.10.0)\n",
      "Requirement already satisfied: numpy>=1.21.2 in /home/mathildaweston/.pyenv/versions/3.10.6/envs/lewagon/lib/python3.10/site-packages (from opencv-python) (1.23.4)\n",
      "Requirement already satisfied: cycler>=0.10 in /home/mathildaweston/.pyenv/versions/3.10.6/envs/lewagon/lib/python3.10/site-packages (from matplotlib) (0.11.0)\n",
      "Requirement already satisfied: fonttools>=4.22.0 in /home/mathildaweston/.pyenv/versions/3.10.6/envs/lewagon/lib/python3.10/site-packages (from matplotlib) (4.38.0)\n",
      "Requirement already satisfied: kiwisolver>=1.0.1 in /home/mathildaweston/.pyenv/versions/3.10.6/envs/lewagon/lib/python3.10/site-packages (from matplotlib) (1.4.4)\n",
      "Requirement already satisfied: packaging>=20.0 in /home/mathildaweston/.pyenv/versions/3.10.6/envs/lewagon/lib/python3.10/site-packages (from matplotlib) (21.3)\n",
      "Requirement already satisfied: pillow>=6.2.0 in /home/mathildaweston/.pyenv/versions/3.10.6/envs/lewagon/lib/python3.10/site-packages (from matplotlib) (9.1.1)\n",
      "Requirement already satisfied: pyparsing>=2.2.1 in /home/mathildaweston/.pyenv/versions/3.10.6/envs/lewagon/lib/python3.10/site-packages (from matplotlib) (3.0.9)\n",
      "Requirement already satisfied: python-dateutil>=2.7 in /home/mathildaweston/.pyenv/versions/3.10.6/envs/lewagon/lib/python3.10/site-packages (from matplotlib) (2.8.2)\n",
      "Requirement already satisfied: absl-py>=1.0.0 in /home/mathildaweston/.pyenv/versions/3.10.6/envs/lewagon/lib/python3.10/site-packages (from tensorflow) (1.3.0)\n",
      "Requirement already satisfied: astunparse>=1.6.0 in /home/mathildaweston/.pyenv/versions/3.10.6/envs/lewagon/lib/python3.10/site-packages (from tensorflow) (1.6.3)\n",
      "Requirement already satisfied: flatbuffers>=2.0 in /home/mathildaweston/.pyenv/versions/3.10.6/envs/lewagon/lib/python3.10/site-packages (from tensorflow) (22.9.24)\n",
      "Requirement already satisfied: gast<=0.4.0,>=0.2.1 in /home/mathildaweston/.pyenv/versions/3.10.6/envs/lewagon/lib/python3.10/site-packages (from tensorflow) (0.4.0)\n",
      "Requirement already satisfied: google-pasta>=0.1.1 in /home/mathildaweston/.pyenv/versions/3.10.6/envs/lewagon/lib/python3.10/site-packages (from tensorflow) (0.2.0)\n",
      "Requirement already satisfied: grpcio<2.0,>=1.24.3 in /home/mathildaweston/.pyenv/versions/3.10.6/envs/lewagon/lib/python3.10/site-packages (from tensorflow) (1.50.0)\n",
      "Requirement already satisfied: h5py>=2.9.0 in /home/mathildaweston/.pyenv/versions/3.10.6/envs/lewagon/lib/python3.10/site-packages (from tensorflow) (3.7.0)\n",
      "Requirement already satisfied: keras<2.11,>=2.10.0 in /home/mathildaweston/.pyenv/versions/3.10.6/envs/lewagon/lib/python3.10/site-packages (from tensorflow) (2.10.0)\n",
      "Requirement already satisfied: keras-preprocessing>=1.1.1 in /home/mathildaweston/.pyenv/versions/3.10.6/envs/lewagon/lib/python3.10/site-packages (from tensorflow) (1.1.2)\n",
      "Requirement already satisfied: libclang>=13.0.0 in /home/mathildaweston/.pyenv/versions/3.10.6/envs/lewagon/lib/python3.10/site-packages (from tensorflow) (14.0.6)\n",
      "Requirement already satisfied: opt-einsum>=2.3.2 in /home/mathildaweston/.pyenv/versions/3.10.6/envs/lewagon/lib/python3.10/site-packages (from tensorflow) (3.3.0)\n",
      "Requirement already satisfied: protobuf<3.20,>=3.9.2 in /home/mathildaweston/.pyenv/versions/3.10.6/envs/lewagon/lib/python3.10/site-packages (from tensorflow) (3.19.6)\n",
      "Requirement already satisfied: setuptools in /home/mathildaweston/.pyenv/versions/3.10.6/envs/lewagon/lib/python3.10/site-packages (from tensorflow) (63.2.0)\n",
      "Requirement already satisfied: six>=1.12.0 in /home/mathildaweston/.pyenv/versions/3.10.6/envs/lewagon/lib/python3.10/site-packages (from tensorflow) (1.16.0)\n",
      "Requirement already satisfied: tensorboard<2.11,>=2.10 in /home/mathildaweston/.pyenv/versions/3.10.6/envs/lewagon/lib/python3.10/site-packages (from tensorflow) (2.10.1)\n",
      "Requirement already satisfied: tensorflow-io-gcs-filesystem>=0.23.1 in /home/mathildaweston/.pyenv/versions/3.10.6/envs/lewagon/lib/python3.10/site-packages (from tensorflow) (0.27.0)\n",
      "Requirement already satisfied: tensorflow-estimator<2.11,>=2.10.0 in /home/mathildaweston/.pyenv/versions/3.10.6/envs/lewagon/lib/python3.10/site-packages (from tensorflow) (2.10.0)\n",
      "Requirement already satisfied: termcolor>=1.1.0 in /home/mathildaweston/.pyenv/versions/3.10.6/envs/lewagon/lib/python3.10/site-packages (from tensorflow) (2.0.1)\n",
      "Requirement already satisfied: typing-extensions>=3.6.6 in /home/mathildaweston/.pyenv/versions/3.10.6/envs/lewagon/lib/python3.10/site-packages (from tensorflow) (4.4.0)\n",
      "Requirement already satisfied: wrapt>=1.11.0 in /home/mathildaweston/.pyenv/versions/3.10.6/envs/lewagon/lib/python3.10/site-packages (from tensorflow) (1.14.1)\n",
      "Requirement already satisfied: wheel<1.0,>=0.23.0 in /home/mathildaweston/.pyenv/versions/3.10.6/envs/lewagon/lib/python3.10/site-packages (from astunparse>=1.6.0->tensorflow) (0.42.0)\n",
      "Requirement already satisfied: google-auth<3,>=1.6.3 in /home/mathildaweston/.pyenv/versions/3.10.6/envs/lewagon/lib/python3.10/site-packages (from tensorboard<2.11,>=2.10->tensorflow) (2.13.0)\n",
      "Requirement already satisfied: google-auth-oauthlib<0.5,>=0.4.1 in /home/mathildaweston/.pyenv/versions/3.10.6/envs/lewagon/lib/python3.10/site-packages (from tensorboard<2.11,>=2.10->tensorflow) (0.4.6)\n",
      "Requirement already satisfied: markdown>=2.6.8 in /home/mathildaweston/.pyenv/versions/3.10.6/envs/lewagon/lib/python3.10/site-packages (from tensorboard<2.11,>=2.10->tensorflow) (3.4.1)\n",
      "Requirement already satisfied: requests<3,>=2.21.0 in /home/mathildaweston/.pyenv/versions/3.10.6/envs/lewagon/lib/python3.10/site-packages (from tensorboard<2.11,>=2.10->tensorflow) (2.28.1)\n",
      "Requirement already satisfied: tensorboard-data-server<0.7.0,>=0.6.0 in /home/mathildaweston/.pyenv/versions/3.10.6/envs/lewagon/lib/python3.10/site-packages (from tensorboard<2.11,>=2.10->tensorflow) (0.6.1)\n",
      "Requirement already satisfied: tensorboard-plugin-wit>=1.6.0 in /home/mathildaweston/.pyenv/versions/3.10.6/envs/lewagon/lib/python3.10/site-packages (from tensorboard<2.11,>=2.10->tensorflow) (1.8.1)\n",
      "Requirement already satisfied: werkzeug>=1.0.1 in /home/mathildaweston/.pyenv/versions/3.10.6/envs/lewagon/lib/python3.10/site-packages (from tensorboard<2.11,>=2.10->tensorflow) (2.2.2)\n",
      "Requirement already satisfied: cachetools<6.0,>=2.0.0 in /home/mathildaweston/.pyenv/versions/3.10.6/envs/lewagon/lib/python3.10/site-packages (from google-auth<3,>=1.6.3->tensorboard<2.11,>=2.10->tensorflow) (5.2.0)\n",
      "Requirement already satisfied: pyasn1-modules>=0.2.1 in /home/mathildaweston/.pyenv/versions/3.10.6/envs/lewagon/lib/python3.10/site-packages (from google-auth<3,>=1.6.3->tensorboard<2.11,>=2.10->tensorflow) (0.2.8)\n",
      "Requirement already satisfied: rsa<5,>=3.1.4 in /home/mathildaweston/.pyenv/versions/3.10.6/envs/lewagon/lib/python3.10/site-packages (from google-auth<3,>=1.6.3->tensorboard<2.11,>=2.10->tensorflow) (4.9)\n",
      "Requirement already satisfied: requests-oauthlib>=0.7.0 in /home/mathildaweston/.pyenv/versions/3.10.6/envs/lewagon/lib/python3.10/site-packages (from google-auth-oauthlib<0.5,>=0.4.1->tensorboard<2.11,>=2.10->tensorflow) (1.3.1)\n",
      "Requirement already satisfied: charset-normalizer<3,>=2 in /home/mathildaweston/.pyenv/versions/3.10.6/envs/lewagon/lib/python3.10/site-packages (from requests<3,>=2.21.0->tensorboard<2.11,>=2.10->tensorflow) (2.1.1)\n",
      "Requirement already satisfied: idna<4,>=2.5 in /home/mathildaweston/.pyenv/versions/3.10.6/envs/lewagon/lib/python3.10/site-packages (from requests<3,>=2.21.0->tensorboard<2.11,>=2.10->tensorflow) (3.4)\n",
      "Requirement already satisfied: urllib3<1.27,>=1.21.1 in /home/mathildaweston/.pyenv/versions/3.10.6/envs/lewagon/lib/python3.10/site-packages (from requests<3,>=2.21.0->tensorboard<2.11,>=2.10->tensorflow) (1.26.12)\n",
      "Requirement already satisfied: certifi>=2017.4.17 in /home/mathildaweston/.pyenv/versions/3.10.6/envs/lewagon/lib/python3.10/site-packages (from requests<3,>=2.21.0->tensorboard<2.11,>=2.10->tensorflow) (2022.9.24)\n",
      "Requirement already satisfied: MarkupSafe>=2.1.1 in /home/mathildaweston/.pyenv/versions/3.10.6/envs/lewagon/lib/python3.10/site-packages (from werkzeug>=1.0.1->tensorboard<2.11,>=2.10->tensorflow) (2.1.1)\n",
      "Requirement already satisfied: pyasn1<0.5.0,>=0.4.6 in /home/mathildaweston/.pyenv/versions/3.10.6/envs/lewagon/lib/python3.10/site-packages (from pyasn1-modules>=0.2.1->google-auth<3,>=1.6.3->tensorboard<2.11,>=2.10->tensorflow) (0.4.8)\n",
      "Requirement already satisfied: oauthlib>=3.0.0 in /home/mathildaweston/.pyenv/versions/3.10.6/envs/lewagon/lib/python3.10/site-packages (from requests-oauthlib>=0.7.0->google-auth-oauthlib<0.5,>=0.4.1->tensorboard<2.11,>=2.10->tensorflow) (3.2.2)\n"
     ]
    }
   ],
   "source": [
    "!pip install opencv-python matplotlib imageio tensorflow"
   ]
  },
  {
   "cell_type": "code",
   "execution_count": 4,
   "id": "96bc5c19",
   "metadata": {},
   "outputs": [
    {
     "name": "stderr",
     "output_type": "stream",
     "text": [
      "2024-03-11 13:01:15.631761: I tensorflow/core/platform/cpu_feature_guard.cc:193] This TensorFlow binary is optimized with oneAPI Deep Neural Network Library (oneDNN) to use the following CPU instructions in performance-critical operations:  AVX2 AVX512F AVX512_VNNI FMA\n",
      "To enable them in other operations, rebuild TensorFlow with the appropriate compiler flags.\n",
      "2024-03-11 13:01:15.948829: I tensorflow/core/util/util.cc:169] oneDNN custom operations are on. You may see slightly different numerical results due to floating-point round-off errors from different computation orders. To turn them off, set the environment variable `TF_ENABLE_ONEDNN_OPTS=0`.\n",
      "2024-03-11 13:01:16.023499: W tensorflow/stream_executor/platform/default/dso_loader.cc:64] Could not load dynamic library 'libcudart.so.11.0'; dlerror: libcudart.so.11.0: cannot open shared object file: No such file or directory; LD_LIBRARY_PATH: /home/mathildaweston/.pyenv/versions/3.10.6/envs/lewagon/lib/python3.10/site-packages/cv2/../../lib64:\n",
      "2024-03-11 13:01:16.023515: I tensorflow/stream_executor/cuda/cudart_stub.cc:29] Ignore above cudart dlerror if you do not have a GPU set up on your machine.\n",
      "2024-03-11 13:01:16.069607: E tensorflow/stream_executor/cuda/cuda_blas.cc:2981] Unable to register cuBLAS factory: Attempting to register factory for plugin cuBLAS when one has already been registered\n",
      "2024-03-11 13:01:17.078054: W tensorflow/stream_executor/platform/default/dso_loader.cc:64] Could not load dynamic library 'libnvinfer.so.7'; dlerror: libnvinfer.so.7: cannot open shared object file: No such file or directory; LD_LIBRARY_PATH: /home/mathildaweston/.pyenv/versions/3.10.6/envs/lewagon/lib/python3.10/site-packages/cv2/../../lib64:\n",
      "2024-03-11 13:01:17.078157: W tensorflow/stream_executor/platform/default/dso_loader.cc:64] Could not load dynamic library 'libnvinfer_plugin.so.7'; dlerror: libnvinfer_plugin.so.7: cannot open shared object file: No such file or directory; LD_LIBRARY_PATH: /home/mathildaweston/.pyenv/versions/3.10.6/envs/lewagon/lib/python3.10/site-packages/cv2/../../lib64:\n",
      "2024-03-11 13:01:17.078162: W tensorflow/compiler/tf2tensorrt/utils/py_utils.cc:38] TF-TRT Warning: Cannot dlopen some TensorRT libraries. If you would like to use Nvidia GPU with TensorRT, please make sure the missing libraries mentioned above are installed properly.\n"
     ]
    }
   ],
   "source": [
    "import os\n",
    "import cv2\n",
    "import tensorflow as tf\n",
    "import numpy as np\n",
    "from typing import List\n",
    "from matplotlib import pyplot as plt\n",
    "import imageio"
   ]
  },
  {
   "cell_type": "code",
   "execution_count": 30,
   "id": "0c55b701",
   "metadata": {},
   "outputs": [],
   "source": [
    "speakers = [f's{i}' for i in [i for i in range(1, 35) if i != 21]]\n",
    "\n",
    "# paths_to_clean = ['/'.join([os.getcwd(),'data/alignments', speaker]) for speaker in speakers]\n",
    "# path_to_clean"
   ]
  },
  {
   "cell_type": "code",
   "execution_count": 32,
   "id": "74cb2d4a-50e0-4a5f-b50f-5f67291725ee",
   "metadata": {
    "tags": []
   },
   "outputs": [],
   "source": [
    "# speakers"
   ]
  },
  {
   "cell_type": "code",
   "execution_count": null,
   "id": "7f499a78-8ba5-4fe8-b386-9e9ba66acb07",
   "metadata": {},
   "outputs": [],
   "source": []
  },
  {
   "cell_type": "code",
   "execution_count": 5,
   "id": "2a7ebb99",
   "metadata": {},
   "outputs": [],
   "source": [
    "# speakers = 's1'\n",
    "\n",
    "# path_to_clean = ['/'.join([os.getcwd(),'data/alignments', speaker])]\n",
    "# path_to_clean"
   ]
  },
  {
   "cell_type": "code",
   "execution_count": 6,
   "id": "f3837017",
   "metadata": {},
   "outputs": [],
   "source": [
    "# file_names = []\n",
    "# for folder_path in paths_to_clean:\n",
    "#     for root, dirs, files in os.walk(folder_path):\n",
    "#         for file in files:\n",
    "#             if file.endswith('.align'):\n",
    "#                 file_name = file.replace(\".align\", \"\")\n",
    "#                 file_names.append(file_name)\n",
    "# len(file_names)"
   ]
  },
  {
   "cell_type": "code",
   "execution_count": 5,
   "id": "1c7d724d",
   "metadata": {},
   "outputs": [
    {
     "name": "stderr",
     "output_type": "stream",
     "text": [
      "2024-03-11 13:01:24.644890: W tensorflow/stream_executor/platform/default/dso_loader.cc:64] Could not load dynamic library 'libcuda.so.1'; dlerror: libcuda.so.1: cannot open shared object file: No such file or directory; LD_LIBRARY_PATH: /home/mathildaweston/.pyenv/versions/3.10.6/envs/lewagon/lib/python3.10/site-packages/cv2/../../lib64:\n",
      "2024-03-11 13:01:24.645541: W tensorflow/stream_executor/cuda/cuda_driver.cc:263] failed call to cuInit: UNKNOWN ERROR (303)\n",
      "2024-03-11 13:01:24.645565: I tensorflow/stream_executor/cuda/cuda_diagnostics.cc:156] kernel driver does not appear to be running on this host (DESKTOP-12451Q9): /proc/driver/nvidia/version does not exist\n",
      "2024-03-11 13:01:24.647089: I tensorflow/core/platform/cpu_feature_guard.cc:193] This TensorFlow binary is optimized with oneAPI Deep Neural Network Library (oneDNN) to use the following CPU instructions in performance-critical operations:  AVX2 AVX512F AVX512_VNNI FMA\n",
      "To enable them in other operations, rebuild TensorFlow with the appropriate compiler flags.\n"
     ]
    }
   ],
   "source": [
    "vocab = [x for x in \"abcdefghijklmnopqrstuvwxyz'?!123456789 \"]\n",
    "\n",
    "char_to_num = tf.keras.layers.StringLookup(vocabulary=vocab, oov_token=\"\")\n",
    "num_to_char = tf.keras.layers.StringLookup(\n",
    "    vocabulary=char_to_num.get_vocabulary(), oov_token=\"\", invert=True\n",
    ")"
   ]
  },
  {
   "cell_type": "code",
   "execution_count": 6,
   "id": "b8998096",
   "metadata": {},
   "outputs": [],
   "source": [
    "def load_alignments(path:str) -> List[str]: \n",
    "    with open(path, 'r') as f: \n",
    "        lines = f.readlines() \n",
    "    tokens = []\n",
    "    for line in lines:\n",
    "        line = line.split()\n",
    "        if line[2] != 'sil': #Removing the silences\n",
    "            tokens = [*tokens,' ',line[2]]\n",
    "    return char_to_num(tf.reshape(tf.strings.unicode_split(tokens, input_encoding='UTF-8'), (-1)))[1:]"
   ]
  },
  {
   "cell_type": "code",
   "execution_count": 7,
   "id": "183b8695",
   "metadata": {},
   "outputs": [],
   "source": [
    "def load_align_data(file_name: str): \n",
    "    alignment_path = os.path.join(path_to_clean[0], f'{file_name}.align')\n",
    "    alignments = load_alignments(alignment_path).numpy().tolist()\n",
    "\n",
    "    return alignments"
   ]
  },
  {
   "cell_type": "code",
   "execution_count": 8,
   "id": "ed66afc7",
   "metadata": {},
   "outputs": [],
   "source": [
    "# len(load_align_data('srah7a'))"
   ]
  },
  {
   "cell_type": "code",
   "execution_count": 9,
   "id": "d00d9d84",
   "metadata": {},
   "outputs": [],
   "source": [
    "def make_dict(file_names):\n",
    "    align_dict = dict(zip(file_names, [load_align_data(file_name) for file_name in file_names]))\n",
    "    return align_dict"
   ]
  },
  {
   "cell_type": "code",
   "execution_count": 12,
   "id": "46b90ad2",
   "metadata": {},
   "outputs": [],
   "source": [
    "def preproc_align(speaker: str):\n",
    "    path_to_clean = ['/'.join([os.getcwd(),'raw_alignments', speaker, 'align'])]\n",
    "    file_names = []\n",
    "    for folder_path in path_to_clean:\n",
    "        for root, dirs, files in os.walk(folder_path):\n",
    "            for file in files:\n",
    "                if file.endswith('.align'):\n",
    "                    file_name = file.replace(\".align\", \"\")\n",
    "                    file_names.append(file_name)\n",
    "    def load_alignments(path:str) -> List[str]: \n",
    "        with open(path, 'r') as f: \n",
    "            lines = f.readlines() \n",
    "        tokens = []\n",
    "        for line in lines:\n",
    "            line = line.split()\n",
    "            if line[2] != 'sil': #Removing the silences\n",
    "                tokens = [*tokens,' ',line[2]]\n",
    "        return char_to_num(tf.reshape(tf.strings.unicode_split(tokens, input_encoding='UTF-8'), (-1)))[1:]\n",
    "\n",
    "    def load_align_data(file_name: str): \n",
    "        alignment_path = os.path.join(path_to_clean[0], f'{file_name}.align')\n",
    "        alignments = load_alignments(alignment_path).numpy().tolist()\n",
    "\n",
    "        return alignments\n",
    "\n",
    "    def make_dict(file_names):\n",
    "        align_dict = dict(zip(file_names, [load_align_data(file_name) for file_name in file_names]))\n",
    "        return align_dict\n",
    "    \n",
    "    return make_dict(file_names)"
   ]
  },
  {
   "cell_type": "code",
   "execution_count": 18,
   "id": "06b959b5",
   "metadata": {},
   "outputs": [],
   "source": [
    "s2_dict = preproc_align(speakers[0])"
   ]
  },
  {
   "cell_type": "code",
   "execution_count": 20,
   "id": "8c5fc67b",
   "metadata": {},
   "outputs": [
    {
     "data": {
      "text/plain": [
       "dict_keys(['bgwh9p', 'lwar5n', 'pwij4a', 'bbws9p', 'pbwj1n', 'brwt4s', 'sgwx4a', 'srih1p', 'pwad3p', 'pwbd7p', 'bwbn2s', 'lbbk5p', 'lwws5p', 'pwbq3n', 'lbwlza', 'pbio3n', 'swbczs', 'pwwq8s', 'pbio6a', 'srbo2s', 'bbbl9n', 'lrbr3n', 'swio1p', 'swai1p', 'pbbi8s', 'brbg1n', 'srbb5p', 'sgwp7n', 'pbbp1n', 'bbie9p', 'bwam9p', 'pbio5p', 'sgwd1p', 'lgil5p', 'bbwm6a', 'pgiq2s', 'sbbu1p', 'pgikza', 'lrbr5p', 'bwbn4a', 'swiu3n', 'sbwh8a', 'lwiy8a', 'lbiq2a', 'bbwm4s', 'bbbs6a', 'prip2a', 'pbih9n', 'pwaj8a', 'swbc2a', 'srwb9p', 'bgit6a', 'bram3p', 'srbh8s', 'lrak6s', 'lbbe2a', 'bgbn9p', 'sgwc9n', 'swih6s', 'lrbe5n', 'lgir8s', 'pwiv9n', 'brwa2s', 'pwip7p', 'swwv5n', 'srau2s', 'pwbyza', 'bwwu1p', 'sgii1n', 'sbba7n', 'pric1n', 'lbij8a', 'sbag9p', 'lbwk8s', 'bris4a', 'sbag7n', 'lwbf4a', 'pgak1n', 'pbac2a', 'swbo8s', 'lgws9n', 'lbad8a', 'sbwu6a', 'sgwj5p', 'bbwgzs', 'sgai6s', 'pwax4s', 'brif5p', 'lbax8s', 'bbwg2a', 'bwwn7p', 'lrbl1p', 'bwbt5n', 'bwag3n', 'lrae1n', 'pwax6a', 'lgwaza', 'briz5n', 'lbbk6a', 'bbaf1n', 'bbal8a', 'pric2s', 'bbbm1p', 'pbib8a', 'lwwf5n', 'sbwh6s', 'sgap2a', 'pgaq6s', 'lwar8a', 'bwba4s', 'bbwg1p', 'bwbn1n', 'lbid1n', 'lrik3p', 'pwwrza', 'swab6s', 'srab2a', 'pgaq7p', 'bwaa2a', 'lgil3n', 'sbbuzs', 'srabzs', 'bwis8s', 'lrbk9n', 'prap5p', 'sgwx3p', 'bwaazs', 'sgapzs', 'lwbr9n', 'bginzs', 'prii8a', 'pgix7p', 'lrik2s', 'lrwz3p', 'pbwxzs', 'bbal7p', 'pbii1p', 'pwic8s', 'bgwu5n', 'lbbk4s', 'lwbz4s', 'swwc6a', 'swwv7p', 'lrbe8a', 'pwad2s', 'lwwm1p', 'lwik7n', 'lrwf1p', 'sbwu5p', 'srau4a', 'sbit2s', 'lraq9n', 'bgwb5p', 'lgbm3p', 'srwi3p', 'swwp4a', 'lbwr4a', 'bgia2s', 'lgwm5n', 'sbbn7p', 'lbbezs', 'lrwl6a', 'srah4s', 'lbwe4s', 'pbib5n', 'pgiq3p', 'bwbt6s', 'bbbf6s', 'briz6s', 'swbb9n', 'bbws7n', 'prap4s', 'pwij3p', 'lgaz6s', 'pbwp7p', 'prwkza', 'pwaq1p', 'bgbu3p', 'lwwf8a', 'pwij2s', 'lbid2s', 'lwik8s', 'brbm5n', 'pgwl2a', 'swiu6a', 'lwir3p', 'sgwqza', 'bram1n', 'lrblzs', 'brwt6a', 'bgbu2s', 'sbia1p', 'sbbh4a', 'bwwbza', 'bbal5n', 'swah9n', 'bwbt7p', 'bwis9p', 'bbiz2a', 'bwat2s', 'swbv3p', 'prwx5n', 'lbaj9n', 'swavza', 'pgij8s', 'lbix5p', 'lgaf5p', 'bgbb2a', 'lwar7p', 'srwi4a', 'pgbe3p', 'pgby6a', 'swiu5p', 'lriq8a', 'prbx3p', 'lbix6a', 'lbwy7p', 'lgaz8a', 'sban3p', 'sbbn6s', 'swbo7n', 'prac8a', 'swau9p', 'sban1n', 'braf8s', 'bgan4s', 'bbiy9n', 'lbbk3n', 'lwbl7p', 'bgin2a', 'prwq2s', 'sgbv9p', 'sgbp5p', 'pbai6a', 'lrwf2a', 'sbat7p', 'prii6s', 'pgwy8s', 'swib1n', 'srau1n', 'lwae8s', 'bgat8s', 'bwat4a', 'bbaf4a', 'lgaf6a', 'prav7n', 'sgac2s', 'swbi4s', 'pgwe7p', 'lbaq4s', 'lbayza', 'srwu9n', 'bbizzs', 'brbg4a', 'sbwb4a', 'prwd4s', 'bbil2s', 'lbwy8a', 'swao6a', 'priv3n', 'lrwe9n', 'bwig1p', 'prwd6a', 'lwbz5p', 'bwbt8a', 'lbad6s', 'srwcza', 'bbiz1p', 'pgad8s', 'pwij1n', 'lgal7n', 'pwbkzs', 'bbbm2a', 'srwv1p', 'pbbc5p', 'lgifzs', 'sgav5p', 'sbaa4s', 'pgix6s', 'lgil6a', 'pgbr2a', 'pwbq4s', 'lbbq8s', 'lwie5p', 'bbil4a', 'bgbu4a', 'bgbh5p', 'srwb7n', 'lrarzs', 'sbim7n', 'lrbl2a', 'lrak8a', 'lwwl9n', 'prwq4a', 'pwad4a', 'swbv1n', 'sgib8s', 'sgwx1n', 'sbig5p', 'lbij7p', 'pbai3n', 'brwm9n', 'bris3p', 'bragza', 'swbi5p', 'sbahza', 'prbc9n', 'swib3p', 'bgbh3n', 'srwi2s', 'bgwh8s', 'pwwq9p', 'lgaz5n', 'lray5p', 'srin3n', 'prii7p', 'pwax3n', 'lgif2a', 'sbba8s', 'pwix1p', 'swib4a', 'bbir7p', 'bgwh7n', 'bwba5p', 'lgas1n', 'bwwu2a', 'sria7p', 'brwg6s', 'bgbh4s', 'sgbi9n', 'pbwx2a', 'pgby5p', 'pwwd9n', 'srwvzs', 'lwal2s', 'sgai7p', 'bwaa1p', 'sbwh7p', 'sgbxza', 'bwba6a', 'bbwm3n', 'bgig6s', 'swih8a', 'lwafza', 'lriq6s', 'sbinza', 'pbbv8a', 'bgig5n', 'prbp7n', 'sgbp4s', 'lbwr1n', 'pwbq6a', 'pbbp3p', 'lbak1p', 'bgboza', 'sgac3p', 'lwws4s', 'swwc4s', 'sgib7n', 'lwbf1n', 'lwie3n', 'brwg7p', 'sgwj6a', 'lrwsza', 'sgwx2s', 'sgii2s', 'bgaa8a', 'pwixzs', 'bbws8s', 'pwwe2a', 'lwik9p', 'prbx1n', 'lgal8s', 'prwd5p', 'pwic7n', 'brwa1n', 'srbu8a', 'pbio4s', 'sbaa3n', 'prii5n', 'pgwr3n', 'lgwm8a', 'pbwp8a', 'lrby9p', 'pgwlzs', 'sban4a', 'sgbj1p', 'pgax9n', 'srah3n', 'bgit4s', 'sgai8a', 'lgwt2a', 'swiu4s', 'braz9n', 'bgan6a', 'lbwr3p', 'lrwz4a', 'lgwm6s', 'lgbm2s', 'lgie9n', 'lwie6a', 'sria6s', 'bbbz8s', 'pbiu9p', 'srau3p', 'sbat6s', 'lgwm7p', 'sgiu9n', 'swbv4a', 'brwn2a', 'lrby8s', 'bbwf9n', 'swab8a', 'pbav1n', 'swwp3p', 'pgaeza', 'srwo7p', 'lwiy5n', 'brbs9n', 'lgil4s', 'lwir1n', 'bbbs4s', 'bwwh4a', 'pgak4a', 'swwc5p', 'lgir7n', 'brif6a', 'pgbk8a', 'lgiz4a', 'bwim4s', 'brwa4a', 'lbid4a', 'swwi8s', 'braf9p', 'prbqza', 'bwwn5n', 'sgwp9p', 'pbib7p', 'bwbg9p', 'lwazzs', 'lbaq6a', 'srin5p', 'swwjza', 'bwim3n', 'brimza', 'pgak3p', 'pwwk4s', 'bgwo3p', 'prav9p', 'sbbh3p', 'pwwq7n', 'prai9n', 'sbit1n', 'bwag6a', 'sbiazs', 'swbi3n', 'sgio5n', 'lrwr7n', 'lrbe7p', 'bwag4s', 'lbby3p', 'pwaj6s', 'pbivza', 'lgif1p', 'bbbf8a', 'lriq7p', 'srbu5n', 'prbx4a', 'pbiu7n', 'lgbm1n', 'pbao8s', 'lwir4a', 'sgbjzs', 'lriq5n', 'pgbe4a', 'bwat1n', 'prac5n', 'prbj5p', 'bbaz3n', 'bbal6s', 'prbd1p', 'bgwo4a', 'bgbb1p', 'srwv2a', 'swai2a', 'lbbq7n', 'lrwl5p', 'srit8s', 'lbaq5p', 'srwo8a', 'bwag5p', 'prwj7n', 'pgwk9n', 'sbim8s', 'bgbn8s', 'lgwtzs', 'sbwb3p', 'srbo3p', 'sbwh5n', 'sgbc7p', 'lrwl3n', 'lwwf7p', 'pgbk6s', 'pwbj9n', 'sgwj4s', 'pbbv5n', 'lbby4a', 'bril7n', 'bgia3p', 'bwim6a', 'pwip8a', 'pbav3p', 'lrwz2s', 'bgahzs', 'lrwz1n', 'lbij5n', 'lrae4a', 'lgas2s', 'priv4s', 'pbwj3p', 'brwa3p', 'bbaf2s', 'sbwu4s', 'pbiizs', 'brwg5n', 'bgat9p', 'bras7p', 'brif3n', 'bwbg7n', 'brbm8a', 'lwwz8s', 'bril9p', 'pwbd6s', 'lriy2a', 'pwwk5p', 'pbbc4s', 'lrwr8s', 'lwbz6a', 'lrae3p', 'sgbp3n', 'bgbu1n', 'pgad7n', 'lwbs2a', 'brwt3n', 'srbh9p', 'lrieza', 'pwad1n', 'bbwm5p', 'srwi1n', 'bgag9n', 'sgbj2a', 'lgas3p', 'lgwg4a', 'sbba9p', 'sbbt9n', 'swwp1n', 'swao4s', 'lrby7n', 'lwbs1p', 'pbav4a', 'swbv2s', 'swao5p', 'bwwa9p', 'lrid7n', 'sbaa5p', 'lwir2s', 'sgwd2a', 'pgix8a', 'lbwr2s', 'prio9n', 'pbib6s', 'lbbq9p', 'bbwtza', 'lrid9p', 'bgauza', 'sbat8a', 'pbwc8s', 'lrbr4s', 'brbg2s', 'sbig4s', 'brwt5p', 'srah6a', 'srin4s', 'bgwo2s', 'prwq3p', 'sgio8a', 'pgak2s', 'pwip6s', 'sbwb1n', 'swau7n', 'lgbs6s', 'pbwp6s', 'swib2s', 'sgac4a', 'pwaqzs', 'bwig2a', 'pgwy7n', 'bgbbzs', 'bbir8a', 'sbat5n', 'lgbf8s', 'bgaa6s', 'lrwl4s', 'bbaz6a', 'pgbrzs', 'bgig8a', 'prwx7p', 'bgia4a', 'swab5n', 'lrar2a', 'sgiv1p', 'bbir6s', 'pgay1p', 'bwwuzs', 'sbwn9n', 'bwwh1n', 'srih2a', 'lwws3n', 'priv5p', 'lwaz1p', 'srin6a', 'sgwdzs', 'lwiy7p', 'lwwmzs', 'lgiz3p', 'sgio6s', 'lrbr6a', 'pbwc9p', 'lray6a', 'sbbh2s', 'pgwy9p', 'bbil1n', 'lbwk7n', 'sbwo2a', 'lgbs7p', 'pgbe2s', 'pwaj7p', 'pgbr1p', 'lwbf3p', 'lrik1n', 'lbwe3n', 'pwbq5p', 'sbwb2s', 'lbad7p', 'srbu6s', 'lbid3p', 'srig9n', 'prac6s', 'pgix5n', 'lbby1n', 'bbbmzs', 'lwwf6s', 'bbie7n', 'bwbg8s', 'sgicza', 'bwwn6s', 'swio2a', 'sgivzs', 'swih7p', 'bbir5n', 'pbao7n', 'lgisza', 'lwiy6s', 'pbwx1p', 'sgav4s', 'bgit3n', 'pbbjza', 'sbbh1n', 'lgbgza', 'pgbk7p', 'lrae2s', 'swih5n', 'prwx6s', 'lbbd9n', 'pbbc6a', 'lbad5n', 'pbwj2s', 'pwbd5n', 'bgwu6s', 'pgwe8a', 'pwic9p', 'pbbp2s', 'lbwk9p', 'lwbl6s', 'swwi7n', 'pwaq2a', 'lrak5n', 'bbas2a', 'prbj4s', 'bgah1p', 'pbai5p', 'lrwr9p', 'pgij9p', 'srwo5n', 'sbim9p', 'lbiq1p', 'pbwc7n', 'sran7n', 'lway9n', 'pgwr4s', 'bgan3n', 'pgid5p', 'pbii2a', 'bgwu7p', 'lgaf3n', 'lgaf4s', 'lray4s', 'bbifza', 'sbig3n', 'bbaz4s', 'bwanza', 'pbwj4a', 'lgwt1p', 'praj1p', 'pbac1p', 'sgac1n', 'pwbx8s', 'prac7p', 'prap3n', 'sraoza', 'swwv6s', 'sbwo1p', 'pbav2s', 'pgby4s', 'sgao9n', 'prap6a', 'bbaszs', 'brbm7p', 'brwn1p', 'sbwozs', 'lbaq3n', 'brbg3p', 'sban2s', 'brbtzs', 'priv6a', 'bbaz5p', 'lrbzza', 'bwwt9n', 'bwam8s', 'sgbp6a', 'sgbc6s', 'bgbn7n', 'lbix4s', 'lgir9p', 'pwwy4a', 'pgaq5n', 'briz7p', 'srbb6a', 'prbp9p', 'brbt1p', 'pripzs', 'lgbf7n', 'pwwy1n', 'pwaj5n', 'bbbf7p', 'sgap1p', 'bgwb3n', 'swwp2s', 'sriuza', 'pwidza', 'lgbz9n', 'pric3p', 'bwim5p', 'sgib9p', 'bbbf5n', 'lwws6a', 'lwal3p', 'bwba3n', 'pbwp5n', 'pgij7n', 'bgat7n', 'srbh7n', 'srbiza', 'pbbv7p', 'pgwr6a', 'sgbv7n', 'srihzs', 'pwax5p', 'lrik4a', 'brbt2a', 'brwg8a', 'srit7n', 'sbbn8a', 'bris1n', 'lgal9p', 'bgwb4s', 'pbbi7n', 'sbag8s', 'sgav3n', 'prbj6a', 'pwwk6a', 'brbaza', 'lgwg3p', 'bwwa7n', 'pgayzs', 'pbab9n', 'lgaz7p', 'sgai5n', 'pwbd8a', 'lgbs5n', 'sbwu3n', 'pbaczs', 'sbit4a', 'pwbx7n', 'lbiqzs', 'sgwp8s', 'bwis7n', 'pbbc3n', 'pgbq9n', 'lbby2s', 'lriyzs', 'lbbe1p', 'swwc3n', 'sbit3p', 'lwal1n', 'lwal4a', 'lriy1p', 'lbwy5n', 'swin9n', 'bbaf3p', 'sgii4a', 'lgbm4a', 'prbdzs', 'bgaa5n', 'sgbv8s', 'sgii3p', 'lwwz7n', 'lgwg1n', 'pwix2a', 'pbapza', 'prwj9p', 'lrar1p', 'lbwe5p', 'sgiv2a', 'lwaz2a', 'sbbbza', 'sgio7p', 'bgaa7p', 'lrwfzs', 'lwbf2s', 'bgig7p', 'bgba9n', 'bras8a', 'pgad9p', 'lbax9p', 'pgwzza', 'bram2s', 'bwif9n', 'lgas4a', 'bwwa8s', 'lbwe6a', 'lbax7n', 'pwwe1p', 'bgah2a', 'srah5p', 'bbbz7n', 'swwv8a', 'bwat3p', 'srwb8s', 'sbia2a', 'pgwr5p', 'bwwh2s', 'bgwu8a', 'bgin1p', 'lwae9p', 'lrid8s', 'briz8a', 'swbc1p', 'bgwb6a', 'pgiq1n', 'bgbh6a', 'prwd3n', 'praxza', 'prbx2s', 'srbo4a', 'pwbk2a', 'lgamza', 'praj2a', 'lgbs8a', 'pwbk1p', 'lrix9n', 'lgiz1n', 'srab1p', 'bris2s', 'bras6s', 'bbas1p', 'swao3n', 'bgia1n', 'pbbv6s', 'pgid6a', 'bgwo1n', 'bwwh3p', 'sbaa6a', 'lbix3n', 'swab7p', 'swbo9p', 'sraa9n', 'bbbz9p', 'pgwe6s', 'bram4a', 'lbak2a', 'sran9p', 'lwwz9p', 'bwwn8a', 'pgbe1n', 'pwwy3p', 'lwwm2a', 'bbar9n', 'pbiu8s', 'lwilza', 'bgim9n', 'pgby3n', 'sgbc8a', 'lbakzs', 'pwap9n', 'brif4s', 'sbig6a', 'pgwe5n', 'bbbs3n', 'srbb3n', 'prbj3n', 'sbbu2a', 'pbbp4a', 'bgit5p', 'lrak7p', 'swiozs', 'lbbrza', 'lbip9n', 'pbai4s', 'pbwdza', 'lgbf9p', 'swaizs', 'sgwj3n', 'brbm6s', 'prip1p', 'brwnzs', 'lwbl5n', 'swbpza', 'prwq1n', 'bbie8s', 'srit9p', 'prwj8s', 'srbb4s', 'lwie4s', 'bwam7n', 'swbi6a', 'bbil3p', 'pbwv9n', 'pwwk3n', 'lwbszs', 'pwwy2s', 'lwar6s', 'pgid4s', 'srwo6s', 'prav8s', 'lray3n', 'sria8a', 'bgan5p', 'bras5n', 'lwbz3n', 'swwi9p', 'pgiq4a', 'lrbe6s', 'swau8s', 'pwbx9p', 'lbij6s', 'lwae7n', 'bgwiza', 'pbbi9p', 'lgiz2s', 'braf7n', 'sgav6a', 'srbu7p', 'pgid3n', 'bril8s', 'pwip5n', 'srbo1n', 'pgwl1p', 'sria5n', 'bwbn3p', 'sgbc5n', 'pgbk5n', 'pric4a', 'pbao9p', 'sbbn5n', 'lwbl8a', 'pgay2a', 'pwwezs', 'bwigzs', 'bwbhza', 'bbbs5p', 'pgaq8a', 'lgwg2s', 'prajzs', 'sran8s', 'prwx8a', 'prbd2a', 'bwitza', 'lbwy6s', 'prbp8s'])"
      ]
     },
     "execution_count": 20,
     "metadata": {},
     "output_type": "execute_result"
    }
   ],
   "source": [
    "s2_dict.keys()"
   ]
  },
  {
   "cell_type": "markdown",
   "id": "41abf1e1",
   "metadata": {},
   "source": [
    "### Saving to json"
   ]
  },
  {
   "cell_type": "code",
   "execution_count": 37,
   "id": "e4afe83a",
   "metadata": {},
   "outputs": [],
   "source": [
    "import json\n",
    "\n",
    "def save_json(speaker: str):\n",
    "    with open('/'.join([os.getcwd(), 'data/processed_alignments', f'{speaker}_proc_align.json']), 'w') as fp:\n",
    "        json.dump(preproc_align(speaker), fp)\n",
    "    \n",
    "    \n",
    "    \n",
    "    \n",
    "# with open('/'.join([os.getcwd(), 'data/processed_alignments', speaker, f'{speaker}_proc_align.json']), 'w') as fp:\n",
    "#     json.dump(s1_aligns, fp)"
   ]
  },
  {
   "cell_type": "code",
   "execution_count": null,
   "id": "fc7480fe",
   "metadata": {},
   "outputs": [],
   "source": [
    "# f = open('/'.join([os.getcwd(), 'data/processed_alignments', speaker, f'{speaker}_proc_align.json']))\n",
    "\n",
    "# test_align = json.load(f)"
   ]
  },
  {
   "cell_type": "code",
   "execution_count": null,
   "id": "73bce6d0",
   "metadata": {},
   "outputs": [],
   "source": [
    "# test_align"
   ]
  },
  {
   "cell_type": "markdown",
   "id": "63d2b579",
   "metadata": {},
   "source": [
    "### Run and save for all speakers"
   ]
  },
  {
   "cell_type": "code",
   "execution_count": 38,
   "id": "306a773d",
   "metadata": {},
   "outputs": [],
   "source": [
    "for speaker in speakers:\n",
    "    save_json(speaker)"
   ]
  },
  {
   "cell_type": "code",
   "execution_count": 47,
   "id": "671e6e57",
   "metadata": {},
   "outputs": [],
   "source": [
    "f = open('/'.join([os.getcwd(), 'data/processed_alignments', f's22_proc_align.json']))\n",
    "\n",
    "test_align = json.load(f)"
   ]
  },
  {
   "cell_type": "code",
   "execution_count": 48,
   "id": "37c063db",
   "metadata": {},
   "outputs": [
    {
     "data": {
      "text/plain": [
       "1000"
      ]
     },
     "execution_count": 48,
     "metadata": {},
     "output_type": "execute_result"
    }
   ],
   "source": [
    "len(test_align.keys())"
   ]
  },
  {
   "cell_type": "code",
   "execution_count": null,
   "id": "cdf37d4b",
   "metadata": {},
   "outputs": [],
   "source": []
  }
 ],
 "metadata": {
  "environment": {
   "kernel": "python3",
   "name": "tf2-cpu.2-11.m118",
   "type": "gcloud",
   "uri": "us-docker.pkg.dev/deeplearning-platform-release/gcr.io/tf2-cpu.2-11:m118"
  },
  "kernelspec": {
   "display_name": "Python 3 (ipykernel)",
   "language": "python",
   "name": "python3"
  },
  "language_info": {
   "codemirror_mode": {
    "name": "ipython",
    "version": 3
   },
   "file_extension": ".py",
   "mimetype": "text/x-python",
   "name": "python",
   "nbconvert_exporter": "python",
   "pygments_lexer": "ipython3",
   "version": "3.10.6"
  },
  "toc": {
   "base_numbering": 1,
   "nav_menu": {},
   "number_sections": true,
   "sideBar": true,
   "skip_h1_title": false,
   "title_cell": "Table of Contents",
   "title_sidebar": "Contents",
   "toc_cell": false,
   "toc_position": {},
   "toc_section_display": true,
   "toc_window_display": false
  }
 },
 "nbformat": 4,
 "nbformat_minor": 5
}
