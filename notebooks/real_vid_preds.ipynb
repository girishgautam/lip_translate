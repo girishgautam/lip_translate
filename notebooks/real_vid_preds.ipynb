{
 "cells": [
  {
   "cell_type": "code",
   "execution_count": 1,
   "id": "73ea9675-27ab-4f8e-916c-21233bc5fbeb",
   "metadata": {
    "tags": []
   },
   "outputs": [
    {
     "name": "stderr",
     "output_type": "stream",
     "text": [
      "2024-03-14 13:17:21.066775: I tensorflow/core/platform/cpu_feature_guard.cc:193] This TensorFlow binary is optimized with oneAPI Deep Neural Network Library (oneDNN) to use the following CPU instructions in performance-critical operations:  AVX2 AVX512F AVX512_VNNI FMA\n",
      "To enable them in other operations, rebuild TensorFlow with the appropriate compiler flags.\n",
      "2024-03-14 13:17:21.370996: I tensorflow/core/util/util.cc:169] oneDNN custom operations are on. You may see slightly different numerical results due to floating-point round-off errors from different computation orders. To turn them off, set the environment variable `TF_ENABLE_ONEDNN_OPTS=0`.\n",
      "2024-03-14 13:17:21.443193: W tensorflow/stream_executor/platform/default/dso_loader.cc:64] Could not load dynamic library 'libcudart.so.11.0'; dlerror: libcudart.so.11.0: cannot open shared object file: No such file or directory\n",
      "2024-03-14 13:17:21.443209: I tensorflow/stream_executor/cuda/cudart_stub.cc:29] Ignore above cudart dlerror if you do not have a GPU set up on your machine.\n",
      "2024-03-14 13:17:21.492697: E tensorflow/stream_executor/cuda/cuda_blas.cc:2981] Unable to register cuBLAS factory: Attempting to register factory for plugin cuBLAS when one has already been registered\n",
      "2024-03-14 13:17:22.821523: W tensorflow/stream_executor/platform/default/dso_loader.cc:64] Could not load dynamic library 'libnvinfer.so.7'; dlerror: libnvinfer.so.7: cannot open shared object file: No such file or directory\n",
      "2024-03-14 13:17:22.821606: W tensorflow/stream_executor/platform/default/dso_loader.cc:64] Could not load dynamic library 'libnvinfer_plugin.so.7'; dlerror: libnvinfer_plugin.so.7: cannot open shared object file: No such file or directory\n",
      "2024-03-14 13:17:22.821612: W tensorflow/compiler/tf2tensorrt/utils/py_utils.cc:38] TF-TRT Warning: Cannot dlopen some TensorRT libraries. If you would like to use Nvidia GPU with TensorRT, please make sure the missing libraries mentioned above are installed properly.\n"
     ]
    }
   ],
   "source": [
    "import os\n",
    "import tensorflow as tf\n",
    "from tensorflow.keras.models import Sequential \n",
    "from tensorflow.keras.layers import Conv3D, Activation, BatchNormalization, MaxPool3D, TimeDistributed, Flatten, Bidirectional, LSTM, Dropout, Dense\n",
    "from tensorflow.keras.callbacks import ModelCheckpoint, LearningRateScheduler\n",
    "from tensorflow.keras.optimizers import Adam"
   ]
  },
  {
   "cell_type": "code",
   "execution_count": 2,
   "id": "dcaa1954-540b-415e-bc01-39b28a334d02",
   "metadata": {
    "tags": []
   },
   "outputs": [],
   "source": [
    "def initiate_model():\n",
    "    model = Sequential()\n",
    "    model.add(Conv3D(64, (3, 3, 3), input_shape=(75, 30, 70, 1), padding='same'))\n",
    "    model.add(BatchNormalization())\n",
    "    model.add(Activation('relu'))\n",
    "    model.add(MaxPool3D((1,2,2)))\n",
    "\n",
    "    model.add(Conv3D(256, 3, padding='same'))\n",
    "    model.add(Activation('relu'))\n",
    "    model.add(MaxPool3D((1,2,2)))\n",
    "    model.add(Dropout(.5))\n",
    "\n",
    "    model.add(Conv3D(75, 3, padding='same'))\n",
    "    model.add(Activation('relu'))\n",
    "    model.add(MaxPool3D((1,2,2)))\n",
    "    model.add(Dropout(.5))\n",
    "\n",
    "    model.add(TimeDistributed(Flatten()))\n",
    "\n",
    "    model.add(Bidirectional(LSTM(128, kernel_initializer='Orthogonal', return_sequences=True)))\n",
    "    model.add(Dropout(.5))\n",
    "\n",
    "    model.add(Bidirectional(LSTM(128, kernel_initializer='Orthogonal', return_sequences=True)))\n",
    "    model.add(Dropout(.5))\n",
    "\n",
    "    model.add(Dense(char_to_num.vocabulary_size()+1, kernel_initializer='he_normal', activation='softmax'))\n",
    "    \n",
    "    return model"
   ]
  },
  {
   "cell_type": "code",
   "execution_count": 3,
   "id": "eedf4354-2277-4505-b399-57cce674702d",
   "metadata": {
    "tags": []
   },
   "outputs": [
    {
     "name": "stdout",
     "output_type": "stream",
     "text": [
      "The vocabulary is: ['', 'a', 'b', 'c', 'd', 'e', 'f', 'g', 'h', 'i', 'j', 'k', 'l', 'm', 'n', 'o', 'p', 'q', 'r', 's', 't', 'u', 'v', 'w', 'x', 'y', 'z', \"'\", '?', '!', '1', '2', '3', '4', '5', '6', '7', '8', '9', ' '] (size =40)\n"
     ]
    },
    {
     "name": "stderr",
     "output_type": "stream",
     "text": [
      "2024-03-14 13:17:31.647520: W tensorflow/stream_executor/platform/default/dso_loader.cc:64] Could not load dynamic library 'libcuda.so.1'; dlerror: libcuda.so.1: cannot open shared object file: No such file or directory\n",
      "2024-03-14 13:17:31.647972: W tensorflow/stream_executor/cuda/cuda_driver.cc:263] failed call to cuInit: UNKNOWN ERROR (303)\n",
      "2024-03-14 13:17:31.648010: I tensorflow/stream_executor/cuda/cuda_diagnostics.cc:156] kernel driver does not appear to be running on this host (DESKTOP-12451Q9): /proc/driver/nvidia/version does not exist\n",
      "2024-03-14 13:17:31.649244: I tensorflow/core/platform/cpu_feature_guard.cc:193] This TensorFlow binary is optimized with oneAPI Deep Neural Network Library (oneDNN) to use the following CPU instructions in performance-critical operations:  AVX2 AVX512F AVX512_VNNI FMA\n",
      "To enable them in other operations, rebuild TensorFlow with the appropriate compiler flags.\n"
     ]
    }
   ],
   "source": [
    "vocab = [x for x in \"abcdefghijklmnopqrstuvwxyz'?!123456789 \"]\n",
    "char_to_num = tf.keras.layers.StringLookup(vocabulary=vocab, oov_token=\"\")\n",
    "num_to_char = tf.keras.layers.StringLookup(\n",
    "    vocabulary=char_to_num.get_vocabulary(), oov_token=\"\", invert=True\n",
    ")\n",
    "\n",
    "print(\n",
    "    f\"The vocabulary is: {char_to_num.get_vocabulary()} \"\n",
    "    f\"(size ={char_to_num.vocabulary_size()})\"\n",
    ")"
   ]
  },
  {
   "cell_type": "code",
   "execution_count": 4,
   "id": "5cd534cd-6047-42d9-9bb8-c5c5c1888d66",
   "metadata": {
    "tags": []
   },
   "outputs": [],
   "source": [
    "import math\n",
    "# Function for compiling the model\n",
    "def compile_model(model):\n",
    "    model.compile(optimizer=Adam(learning_rate=0.0001), loss=CTCLoss)\n",
    "    return model\n",
    "\n",
    "# Define the CTC loss function\n",
    "def CTCLoss(y_true, y_pred):\n",
    "    batch_len = tf.cast(tf.shape(y_true)[0], dtype=\"int64\")\n",
    "    input_length = tf.cast(tf.shape(y_pred)[1], dtype=\"int64\")\n",
    "    label_length = tf.cast(tf.shape(y_true)[1], dtype=\"int64\")\n",
    "\n",
    "    input_length = input_length * tf.ones(shape=(batch_len, 1), dtype=\"int64\")\n",
    "    label_length = label_length * tf.ones(shape=(batch_len, 1), dtype=\"int64\")\n",
    "\n",
    "    loss = tf.keras.backend.ctc_batch_cost(y_true, y_pred, input_length, label_length)\n",
    "    return loss\n",
    "\n",
    "# Define learning rate scheduler\n",
    "def scheduler(epoch, lr):\n",
    "    if epoch < 30:\n",
    "        return lr\n",
    "    else:\n",
    "        return lr * tf.math.exp(-0.1)\n",
    "\n",
    "# Example producing callback\n",
    "class ProduceExample(tf.keras.callbacks.Callback):\n",
    "    def __init__(self, dataset) -> None:\n",
    "        self.dataset = dataset\n",
    "        self.iterator = iter(dataset)\n",
    "\n",
    "    def on_epoch_end(self, epoch, logs=None) -> None:\n",
    "        data = next(self.iterator, None)\n",
    "        if data is None:  # This would only happen if the dataset is not repeating\n",
    "            self.iterator = iter(self.dataset)\n",
    "            data = next(self.iterator, None)\n",
    "        if data is not None:\n",
    "            yhat = self.model.predict(data[0])\n",
    "            decoded = tf.keras.backend.ctc_decode(yhat, [75, 75], greedy=False)[0][0].numpy()\n",
    "            for x in range(len(yhat)):           \n",
    "                print('Original:', tf.strings.reduce_join(num_to_char(data[1][x])).numpy().decode('utf-8'))\n",
    "                print('Prediction:', tf.strings.reduce_join(num_to_char(decoded[x])).numpy().decode('utf-8'))\n",
    "                print('~'*100)"
   ]
  },
  {
   "cell_type": "markdown",
   "id": "3325db6a-bf77-48d0-b67d-1210ee64f14a",
   "metadata": {},
   "source": [
    "### Import the test videos"
   ]
  },
  {
   "cell_type": "code",
   "execution_count": 121,
   "id": "b0d6a4f8-0a7e-4840-85f5-60be78e441cb",
   "metadata": {
    "tags": []
   },
   "outputs": [],
   "source": [
    "import numpy as np\n",
    "\n",
    "# Load the .npz file\n",
    "data_01 = np.load('bin_day_2.npz')\n",
    "data_02 = np.load('bin_day_is_on_tuesday.npz')\n",
    "data_03 = np.load('please_read_it_again.npz')\n",
    "data_04 = np.load('place_blue_in_the_box_now.npz')\n",
    "data_05 = np.load('please_read_it_now.npz')\n",
    "data_grid = np.load('zipped_vids_3000.npz')\n",
    "\n",
    "\n",
    "# Convert to a Python dictionary\n",
    "\n",
    "dict_01 = {key: data_01[key] for key in data_01.files}\n",
    "dict_02 = {key: data_02[key] for key in data_02.files}\n",
    "dict_03 = {key: data_03[key] for key in data_03.files}\n",
    "dict_04 = {key: data_04[key] for key in data_04.files}\n",
    "dict_05 = {key: data_05[key] for key in data_05.files}\n",
    "dict_grid = {key: data_grid[key] for key in data_grid.files}\n",
    "\n",
    "sen_01 = 'bin day is tomorrow'\n",
    "sen_02 = 'bin day is on tuesday'\n",
    "sen_03 = 'please read it again'\n",
    "sen_04 = 'place blue in the box now'\n",
    "sen_05 = 'please read it now'\n"
   ]
  },
  {
   "cell_type": "code",
   "execution_count": 155,
   "id": "a3d9b828",
   "metadata": {},
   "outputs": [
    {
     "data": {
      "text/plain": [
       "dict_keys(['arr_0'])"
      ]
     },
     "execution_count": 155,
     "metadata": {},
     "output_type": "execute_result"
    }
   ],
   "source": [
    "dict_02.keys()\n"
   ]
  },
  {
   "cell_type": "code",
   "execution_count": 156,
   "id": "8d871333",
   "metadata": {},
   "outputs": [
    {
     "data": {
      "text/plain": [
       "(122, 30, 70)"
      ]
     },
     "execution_count": 156,
     "metadata": {},
     "output_type": "execute_result"
    }
   ],
   "source": [
    "dict_02['arr_0'].shape"
   ]
  },
  {
   "cell_type": "markdown",
   "id": "f5568418",
   "metadata": {},
   "source": [
    "### Choose a video"
   ]
  },
  {
   "cell_type": "code",
   "execution_count": 157,
   "id": "834620f8-16c1-4a03-b616-3fda58e9bab1",
   "metadata": {
    "tags": []
   },
   "outputs": [
    {
     "data": {
      "text/plain": [
       "(122, 30, 70)"
      ]
     },
     "execution_count": 157,
     "metadata": {},
     "output_type": "execute_result"
    }
   ],
   "source": [
    "test_vid = dict_02['arr_0']\n",
    "test_vid.shape"
   ]
  },
  {
   "cell_type": "code",
   "execution_count": 139,
   "id": "fe1b5c51",
   "metadata": {},
   "outputs": [],
   "source": [
    "# 85 - 75"
   ]
  },
  {
   "cell_type": "code",
   "execution_count": 158,
   "id": "b33ab0d7-b51b-457c-ae65-a8206ae90757",
   "metadata": {
    "tags": []
   },
   "outputs": [
    {
     "data": {
      "text/plain": [
       "(75, 30, 70, 1)"
      ]
     },
     "execution_count": 158,
     "metadata": {},
     "output_type": "execute_result"
    }
   ],
   "source": [
    "#Reshape test_vid for prediction\n",
    "\n",
    "test_vid = np.expand_dims(test_vid, axis=3) \n",
    "test_vid = test_vid[:75]\n",
    "test_vid.shape"
   ]
  },
  {
   "cell_type": "markdown",
   "id": "f50cc822-ba0d-485d-9f8b-f861c4b8be5e",
   "metadata": {},
   "source": [
    "### Make prediction"
   ]
  },
  {
   "cell_type": "code",
   "execution_count": 159,
   "id": "587a6764-a44a-4a56-8b48-e036e9683c72",
   "metadata": {
    "tags": []
   },
   "outputs": [],
   "source": [
    "model = initiate_model()"
   ]
  },
  {
   "cell_type": "code",
   "execution_count": 160,
   "id": "d63084ba-8ebb-432a-b321-bbe60e7f4f01",
   "metadata": {
    "tags": []
   },
   "outputs": [
    {
     "data": {
      "text/plain": [
       "<keras.engine.sequential.Sequential at 0x7fca3a15cd60>"
      ]
     },
     "execution_count": 160,
     "metadata": {},
     "output_type": "execute_result"
    }
   ],
   "source": [
    "def compile_model(model):\n",
    "    model.compile(optimizer=Adam(learning_rate=0.0001), loss=CTCLoss)\n",
    "    return model\n",
    "compile_model(model)"
   ]
  },
  {
   "cell_type": "code",
   "execution_count": 161,
   "id": "53c7fbfe-ede6-4250-9411-73f7eb7c8b9f",
   "metadata": {},
   "outputs": [
    {
     "data": {
      "text/plain": [
       "<tensorflow.python.checkpoint.checkpoint.CheckpointLoadStatus at 0x7fca380d2b00>"
      ]
     },
     "execution_count": 161,
     "metadata": {},
     "output_type": "execute_result"
    }
   ],
   "source": [
    "# Path to the checkpoint directory\n",
    "checkpoint_dir = 'model_mathilda_2000_12mar'\n",
    "\n",
    "# If you want to load weights from a specific epoch\n",
    "epoch_number = 100  # for example, to load from checkpoint_epoch-06\n",
    "checkpoint_path = f\"{checkpoint_dir}/checkpoint_epoch-{epoch_number:02d}\"\n",
    "\n",
    "# Load the weights\n",
    "model.load_weights(checkpoint_path)\n",
    " "
   ]
  },
  {
   "cell_type": "code",
   "execution_count": 162,
   "id": "ade131f5-55c0-4041-8b17-80e5f1791d85",
   "metadata": {},
   "outputs": [
    {
     "data": {
      "text/plain": [
       "(75, 30, 70, 1)"
      ]
     },
     "execution_count": 162,
     "metadata": {},
     "output_type": "execute_result"
    }
   ],
   "source": [
    "test_vid.shape"
   ]
  },
  {
   "cell_type": "code",
   "execution_count": 187,
   "id": "e517a13a-6745-4e0d-a252-1a2663833ca8",
   "metadata": {},
   "outputs": [
    {
     "data": {
      "text/plain": [
       "<matplotlib.image.AxesImage at 0x7fca08bb54b0>"
      ]
     },
     "execution_count": 187,
     "metadata": {},
     "output_type": "execute_result"
    },
    {
     "data": {
      "image/png": "[encoded data removed]",
      "text/plain": [
       "<Figure size 640x480 with 1 Axes>"
      ]
     },
     "metadata": {},
     "output_type": "display_data"
    }
   ],
   "source": [
    "import matplotlib.pyplot as plt\n",
    "\n",
    "one_frame = test_vid[21]\n",
    "plt.imshow(first_frame, cmap='nipy_spectral')"
   ]
  },
  {
   "cell_type": "code",
   "execution_count": 201,
   "id": "51179dcc-7f01-416f-a41e-08cb845d6e01",
   "metadata": {},
   "outputs": [
    {
     "name": "stdout",
     "output_type": "stream",
     "text": [
      "1/1 [==============================] - 0s 187ms/step\n",
      "bin gren in n nin gon by \n"
     ]
    }
   ],
   "source": [
    "def predict_video(model, video_frames):\n",
    "    # Assuming `video_frames` is your input data # Ensure this is correctly implemented\n",
    "    video_frames_batch = np.expand_dims(video_frames, axis=0) \n",
    "\n",
    "    # Get predictions\n",
    "    prediction = model.predict(video_frames_batch)\n",
    "\n",
    "    # The sequence length should match the batch size of 'prediction'\n",
    "    sequence_length = [len(video_frames)]  # Replace this with the correct sequence length for your data\n",
    "\n",
    "    # Decode the predictions\n",
    "    decoded_prediction = tf.keras.backend.ctc_decode(prediction, sequence_length, greedy=False)[0][0].numpy()\n",
    "    predicted_text = tf.strings.reduce_join(num_to_char(decoded_prediction)).numpy().decode('utf-8')\n",
    "    return predicted_text\n",
    "\n",
    "predicted_text = predict_video(model, test_vid)  # Replace 'test_vid' with your video data\n",
    "print(predicted_text)"
   ]
  },
  {
   "cell_type": "code",
   "execution_count": 195,
   "id": "e92879a4",
   "metadata": {},
   "outputs": [
    {
     "name": "stdout",
     "output_type": "stream",
     "text": [
      "<class 'str'>\n"
     ]
    }
   ],
   "source": [
    "print(type(predicted_text))"
   ]
  },
  {
   "cell_type": "code",
   "execution_count": 165,
   "id": "3aa124d1",
   "metadata": {},
   "outputs": [
    {
     "data": {
      "text/plain": [
       "'bin day is on tuesday'"
      ]
     },
     "execution_count": 165,
     "metadata": {},
     "output_type": "execute_result"
    }
   ],
   "source": [
    "sen_02"
   ]
  },
  {
   "cell_type": "code",
   "execution_count": null,
   "id": "a618cbc9",
   "metadata": {},
   "outputs": [],
   "source": []
  },
  {
   "cell_type": "markdown",
   "id": "3e74e21c",
   "metadata": {},
   "source": [
    "### 'praazn'"
   ]
  },
  {
   "cell_type": "code",
   "execution_count": 148,
   "id": "8007eb73",
   "metadata": {},
   "outputs": [],
   "source": [
    "import pandas as pd\n",
    "\n",
    "df = pd.read_csv('all_matches.csv')"
   ]
  },
  {
   "cell_type": "code",
   "execution_count": 154,
   "id": "08f0fcd7",
   "metadata": {},
   "outputs": [
    {
     "data": {
      "text/html": [
       "<div>\n",
       "<style scoped>\n",
       "    .dataframe tbody tr th:only-of-type {\n",
       "        vertical-align: middle;\n",
       "    }\n",
       "\n",
       "    .dataframe tbody tr th {\n",
       "        vertical-align: top;\n",
       "    }\n",
       "\n",
       "    .dataframe thead th {\n",
       "        text-align: right;\n",
       "    }\n",
       "</style>\n",
       "<table border=\"1\" class=\"dataframe\">\n",
       "  <thead>\n",
       "    <tr style=\"text-align: right;\">\n",
       "      <th></th>\n",
       "      <th>Unnamed: 0</th>\n",
       "      <th>speaker_align</th>\n",
       "      <th>speaker_vid</th>\n",
       "    </tr>\n",
       "  </thead>\n",
       "  <tbody>\n",
       "    <tr>\n",
       "      <th>7689</th>\n",
       "      <td>praazn</td>\n",
       "      <td>s26</td>\n",
       "      <td>s27</td>\n",
       "    </tr>\n",
       "  </tbody>\n",
       "</table>\n",
       "</div>"
      ],
      "text/plain": [
       "     Unnamed: 0 speaker_align speaker_vid\n",
       "7689     praazn           s26         s27"
      ]
     },
     "execution_count": 154,
     "metadata": {},
     "output_type": "execute_result"
    }
   ],
   "source": [
    "df[df['Unnamed: 0'] == 'praazn']"
   ]
  },
  {
   "cell_type": "code",
   "execution_count": null,
   "id": "82869b91",
   "metadata": {},
   "outputs": [],
   "source": []
  }
 ],
 "metadata": {
  "environment": {
   "kernel": "python3",
   "name": "tf2-cpu.2-11.m118",
   "type": "gcloud",
   "uri": "us-docker.pkg.dev/deeplearning-platform-release/gcr.io/tf2-cpu.2-11:m118"
  },
  "kernelspec": {
   "display_name": "Python 3 (ipykernel)",
   "language": "python",
   "name": "python3"
  },
  "language_info": {
   "codemirror_mode": {
    "name": "ipython",
    "version": 3
   },
   "file_extension": ".py",
   "mimetype": "text/x-python",
   "name": "python",
   "nbconvert_exporter": "python",
   "pygments_lexer": "ipython3",
   "version": "3.10.6"
  },
  "toc": {
   "base_numbering": 1,
   "nav_menu": {},
   "number_sections": true,
   "sideBar": true,
   "skip_h1_title": false,
   "title_cell": "Table of Contents",
   "title_sidebar": "Contents",
   "toc_cell": false,
   "toc_position": {},
   "toc_section_display": true,
   "toc_window_display": false
  }
 },
 "nbformat": 4,
 "nbformat_minor": 5
}
